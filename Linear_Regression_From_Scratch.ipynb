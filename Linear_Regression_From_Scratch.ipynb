{
 "cells": [
  {
   "cell_type": "markdown",
   "metadata": {},
   "source": [
    "## Linear Regression\n",
    "Linear regression is a statistical method for modeling the relationship between a dependent variable and one or more dependent variables."
   ]
  },
  {
   "cell_type": "markdown",
   "metadata": {},
   "source": []
  },
  {
   "cell_type": "markdown",
   "metadata": {},
   "source": [
    "### Linear Regression Assumptions:\n",
    "1. Linearity: The relationship between the dependent and independent variables should be linear. This means that the change in the dependent variable is constant for a given change in the independent variable.\n",
    "\n",
    "2. Independence: The observations in the dataset should be independent of each other. This means that the information about one observation should not affect the information about another observation.\n",
    "\n",
    "3. Normality: The residuals (the differences between the observed values and the predicted values) should be normally distributed. This assumption is important because many statistical tests, including those used in linear regression, assume normality.\n",
    "\n",
    "4. Normalization: The residuals (the differences between the observed values and the predicted values) should be normally distributed. This assumption is important because many statistical tests and comparisons in linear regression assume normality. "
   ]
  },
  {
   "cell_type": "markdown",
   "metadata": {},
   "source": [
    "## Implementation From Scratch"
   ]
  },
  {
   "cell_type": "code",
   "execution_count": null,
   "metadata": {
    "vscode": {
     "languageId": "plaintext"
    }
   },
   "outputs": [],
   "source": []
  },
  {
   "cell_type": "markdown",
   "metadata": {},
   "source": []
  }
 ],
 "metadata": {
  "kernelspec": {
   "display_name": "Python 3",
   "language": "python",
   "name": "python3"
  },
  "language_info": {
   "codemirror_mode": {
    "name": "ipython",
    "version": 3
   },
   "file_extension": ".py",
   "mimetype": "text/x-python",
   "name": "python",
   "nbconvert_exporter": "python",
   "pygments_lexer": "ipython3",
   "version": "3.9.6"
  }
 },
 "nbformat": 4,
 "nbformat_minor": 2
}
