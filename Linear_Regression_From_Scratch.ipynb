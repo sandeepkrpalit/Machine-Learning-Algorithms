{
 "cells": [
  {
   "cell_type": "markdown",
   "metadata": {},
   "source": [
    "## Linear Regression\n",
    "Linear regression is a statistical method for modeling the relationship between a dependent variable and one or more dependent variables."
   ]
  },
  {
   "cell_type": "markdown",
   "metadata": {},
   "source": []
  },
  {
   "cell_type": "markdown",
   "metadata": {},
   "source": [
    "### Linear Regression Assumptions:\n",
    "1. Linearity: The relationship between the dependent and independent variables should be linear. This means that the change in the dependent variable is constant for a given change in the independent variable.\n",
    "\n",
    "2. Independence: The observations in the dataset should be independent of each other. This means that the information about one observation should not affect the information about another observation.\n",
    "\n",
    "3. Normality: The residuals (the differences between the observed values and the predicted values) should be normally distributed. This assumption is important because many statistical tests, including those used in linear regression, assume normality.\n",
    "\n",
    "4. Homoscedasticity: The variance of the error term must be constant."
   ]
  },
  {
   "cell_type": "markdown",
   "metadata": {},
   "source": [
    "## Implementation From Scratch\n",
    "Suppose we want to predict the price of a house based on its square footage. We can use linear regression to find a linear equation that best fits the data. The linear equation can then be used to predict the price of a new house based on its square footage."
   ]
  },
  {
   "cell_type": "code",
   "execution_count": 7,
   "metadata": {},
   "outputs": [
    {
     "data": {
      "text/html": [
       "<div>\n",
       "<style scoped>\n",
       "    .dataframe tbody tr th:only-of-type {\n",
       "        vertical-align: middle;\n",
       "    }\n",
       "\n",
       "    .dataframe tbody tr th {\n",
       "        vertical-align: top;\n",
       "    }\n",
       "\n",
       "    .dataframe thead th {\n",
       "        text-align: right;\n",
       "    }\n",
       "</style>\n",
       "<table border=\"1\" class=\"dataframe\">\n",
       "  <thead>\n",
       "    <tr style=\"text-align: right;\">\n",
       "      <th></th>\n",
       "      <th>square_footage</th>\n",
       "      <th>price</th>\n",
       "    </tr>\n",
       "  </thead>\n",
       "  <tbody>\n",
       "    <tr>\n",
       "      <th>0</th>\n",
       "      <td>2253</td>\n",
       "      <td>1.219895e+06</td>\n",
       "    </tr>\n",
       "    <tr>\n",
       "      <th>1</th>\n",
       "      <td>1523</td>\n",
       "      <td>8.676320e+05</td>\n",
       "    </tr>\n",
       "    <tr>\n",
       "      <th>2</th>\n",
       "      <td>2472</td>\n",
       "      <td>1.338827e+06</td>\n",
       "    </tr>\n",
       "    <tr>\n",
       "      <th>3</th>\n",
       "      <td>2440</td>\n",
       "      <td>1.323748e+06</td>\n",
       "    </tr>\n",
       "    <tr>\n",
       "      <th>4</th>\n",
       "      <td>2211</td>\n",
       "      <td>1.223805e+06</td>\n",
       "    </tr>\n",
       "    <tr>\n",
       "      <th>...</th>\n",
       "      <td>...</td>\n",
       "      <td>...</td>\n",
       "    </tr>\n",
       "    <tr>\n",
       "      <th>95</th>\n",
       "      <td>2381</td>\n",
       "      <td>1.285492e+06</td>\n",
       "    </tr>\n",
       "    <tr>\n",
       "      <th>96</th>\n",
       "      <td>1907</td>\n",
       "      <td>1.051109e+06</td>\n",
       "    </tr>\n",
       "    <tr>\n",
       "      <th>97</th>\n",
       "      <td>1507</td>\n",
       "      <td>8.740639e+05</td>\n",
       "    </tr>\n",
       "    <tr>\n",
       "      <th>98</th>\n",
       "      <td>2479</td>\n",
       "      <td>1.335870e+06</td>\n",
       "    </tr>\n",
       "    <tr>\n",
       "      <th>99</th>\n",
       "      <td>2608</td>\n",
       "      <td>1.405641e+06</td>\n",
       "    </tr>\n",
       "  </tbody>\n",
       "</table>\n",
       "<p>100 rows × 2 columns</p>\n",
       "</div>"
      ],
      "text/plain": [
       "    square_footage         price\n",
       "0             2253  1.219895e+06\n",
       "1             1523  8.676320e+05\n",
       "2             2472  1.338827e+06\n",
       "3             2440  1.323748e+06\n",
       "4             2211  1.223805e+06\n",
       "..             ...           ...\n",
       "95            2381  1.285492e+06\n",
       "96            1907  1.051109e+06\n",
       "97            1507  8.740639e+05\n",
       "98            2479  1.335870e+06\n",
       "99            2608  1.405641e+06\n",
       "\n",
       "[100 rows x 2 columns]"
      ]
     },
     "execution_count": 7,
     "metadata": {},
     "output_type": "execute_result"
    }
   ],
   "source": [
    "import numpy as np\n",
    "import pandas as pd\n",
    "\n",
    "#Generate simulated data on the sqaure footage and price of houses\n",
    "square_footage = np.random.randint(1000, 3000, size=100)\n",
    "price = 100000 + 500 * square_footage + np.random.randn(100) * 10000\n",
    "\n",
    "#Create a dataframe to store the data\n",
    "data = pd.DataFrame({\n",
    "    'square_footage': square_footage,\n",
    "    'price': price\n",
    "})\n",
    "\n",
    "data"
   ]
  },
  {
   "cell_type": "markdown",
   "metadata": {},
   "source": [
    "#### 1. calculate the mean and variance of the sqaure footage and price data"
   ]
  },
  {
   "cell_type": "markdown",
   "metadata": {},
   "source": []
  },
  {
   "cell_type": "code",
   "execution_count": 14,
   "metadata": {},
   "outputs": [
    {
     "name": "stdout",
     "output_type": "stream",
     "text": [
      "square_footage_mean = 2074.8 and square_footage_variance = 335699.5800000001\n",
      "price_mean = 1135999.6800653033 and price_variance = 83807392196.28241\n"
     ]
    }
   ],
   "source": [
    "def calculate_mean_and_variance(data):\n",
    "    \"\"\" Calculates the mean and variance of a Numpy array.\n",
    "    Args: data: A Numpy array\n",
    "    Returns: A tuple containing the meand and variance of the data.\n",
    "    \"\"\"\n",
    "\n",
    "    mean = np.mean(data)\n",
    "    variance = np.var(data)\n",
    "    return mean, variance\n",
    "\n",
    "square_footage_mean, square_footage_variance = calculate_mean_and_variance(data['square_footage'])\n",
    "price_mean, price_variance = calculate_mean_and_variance(data['price'])\n",
    "\n",
    "print(f'square_footage_mean = {square_footage_mean} and square_footage_variance = {square_footage_variance}')\n",
    "print(f'price_mean = {price_mean} and price_variance = {price_variance}')\n"
   ]
  },
  {
   "cell_type": "markdown",
   "metadata": {},
   "source": [
    "#### 2. calculate the covariance between the square footage and the price data."
   ]
  },
  {
   "cell_type": "code",
   "execution_count": 16,
   "metadata": {},
   "outputs": [
    {
     "name": "stdout",
     "output_type": "stream",
     "text": [
      "square_footage_price_covariance= 169329091.95066652\n"
     ]
    }
   ],
   "source": [
    "def calculate_covariance(data_1, data_2):\n",
    "    \"\"\"Calculates the covariance between two Numpy arrays.\n",
    "    Args: data_1: A Numpy array, data_2: A Numpy array\n",
    "    Returns: The covariance of data_1 and data_2.\n",
    "    \"\"\"\n",
    "    covariance = np.cov(data_1, data_2)[0][1]\n",
    "    return covariance\n",
    "\n",
    "square_footage_price_covariance = calculate_covariance(data['square_footage'], data['price'])\n",
    "\n",
    "print(f\"square_footage_price_covariance= {square_footage_price_covariance}\")\n",
    "\n"
   ]
  },
  {
   "cell_type": "markdown",
   "metadata": {},
   "source": [
    "#### 3. calculate the slope and y-intercept of the regression line"
   ]
  },
  {
   "cell_type": "code",
   "execution_count": 17,
   "metadata": {},
   "outputs": [
    {
     "name": "stdout",
     "output_type": "stream",
     "text": [
      "slope=504.4066243713099, y_intercept=89456.81581970956\n"
     ]
    }
   ],
   "source": [
    "slope = square_footage_price_covariance / square_footage_variance\n",
    "y_intercept = price_mean - (slope * square_footage_mean)\n",
    "\n",
    "print(f\"slope={slope}, y_intercept={y_intercept}\")"
   ]
  },
  {
   "cell_type": "markdown",
   "metadata": {},
   "source": [
    "#### 4. Make a prediction for a new house with a given square footage"
   ]
  },
  {
   "cell_type": "code",
   "execution_count": null,
   "metadata": {},
   "outputs": [],
   "source": [
    "predicted_price = (slope * square_footage) + y_intercept"
   ]
  },
  {
   "cell_type": "code",
   "execution_count": 20,
   "metadata": {},
   "outputs": [
    {
     "name": "stdout",
     "output_type": "stream",
     "text": [
      "predicted_price=846066.7523766743\n"
     ]
    }
   ],
   "source": [
    "def predict_price(square_footage, slope, y_intercept):\n",
    "    \"\"\"Predicts the price of a house based on its square footage.\n",
    "    Args: sqaure_footage: The square footage of the house\n",
    "          slope: The slope of the regression line.\n",
    "          y_intercept: The y-intercept of the regression line.\n",
    "    Returns: The predicted price of the house.\n",
    "    \"\"\"\n",
    "\n",
    "    predicted_price = (slope * square_footage) + y_intercept\n",
    "    return predicted_price\n",
    "\n",
    "new_house_square_footage = 1500\n",
    "predicted_price = predict_price(new_house_square_footage, slope, y_intercept)\n",
    "\n",
    "print(f\"predicted_price={predicted_price}\")"
   ]
  },
  {
   "cell_type": "markdown",
   "metadata": {},
   "source": [
    "This is a simple example of how to create a linear regression model from scratch in Python without using any libraries."
   ]
  }
 ],
 "metadata": {
  "kernelspec": {
   "display_name": "Python 3",
   "language": "python",
   "name": "python3"
  },
  "language_info": {
   "codemirror_mode": {
    "name": "ipython",
    "version": 3
   },
   "file_extension": ".py",
   "mimetype": "text/x-python",
   "name": "python",
   "nbconvert_exporter": "python",
   "pygments_lexer": "ipython3",
   "version": "3.11.5"
  }
 },
 "nbformat": 4,
 "nbformat_minor": 2
}
